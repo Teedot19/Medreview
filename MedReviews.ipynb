{
 "cells": [
  {
   "cell_type": "code",
   "execution_count": 1,
   "id": "69659dc8-2ec4-473f-8436-6df85b4cd3c2",
   "metadata": {},
   "outputs": [
    {
     "name": "stderr",
     "output_type": "stream",
     "text": [
      "[nltk_data] Downloading package punkt to\n",
      "[nltk_data]     C:\\Users\\desig\\AppData\\Roaming\\nltk_data...\n",
      "[nltk_data]   Package punkt is already up-to-date!\n",
      "[nltk_data] Downloading package stopwords to\n",
      "[nltk_data]     C:\\Users\\desig\\AppData\\Roaming\\nltk_data...\n",
      "[nltk_data]   Package stopwords is already up-to-date!\n",
      "[nltk_data] Downloading package wordnet to\n",
      "[nltk_data]     C:\\Users\\desig\\AppData\\Roaming\\nltk_data...\n",
      "[nltk_data]   Package wordnet is already up-to-date!\n"
     ]
    }
   ],
   "source": [
    "import re, nltk\n",
    "nltk.download('punkt')\n",
    "nltk.download('stopwords')\n",
    "nltk.download('wordnet')\n",
    "import numpy as np\n",
    "import pandas as pd\n",
    "from bs4 import BeautifulSoup\n",
    "from nltk.stem import WordNetLemmatizer\n",
    "from nltk.corpus import stopwords\n",
    "from sklearn.feature_extraction.text import TfidfVectorizer\n",
    "from sklearn.model_selection import StratifiedKFold\n",
    "from sklearn import metrics\n",
    "from sklearn.svm import LinearSVC\n",
    "import joblib"
   ]
  },
  {
   "cell_type": "code",
   "execution_count": 2,
   "id": "c8dbb470-1394-40ce-ae02-820b0f71346e",
   "metadata": {},
   "outputs": [],
   "source": [
    "# Reading dataset as dataframe\n",
    "df = pd.read_csv(\"MedReviews.csv\", encoding = \"ISO-8859-1\") # You can also use \"utf-8\"\n",
    "pd.set_option('display.max_colwidth', None) # Setting this so we can see the full content of cells\n",
    "pd.set_option('display.max_columns', None) # to make sure we can see all the columns in output window"
   ]
  },
  {
   "cell_type": "code",
   "execution_count": 3,
   "id": "00dfeff4-9921-4219-98c9-d56e011c42b8",
   "metadata": {
    "collapsed": true,
    "jupyter": {
     "outputs_hidden": true
    },
    "tags": []
   },
   "outputs": [
    {
     "data": {
      "text/html": [
       "<div>\n",
       "<style scoped>\n",
       "    .dataframe tbody tr th:only-of-type {\n",
       "        vertical-align: middle;\n",
       "    }\n",
       "\n",
       "    .dataframe tbody tr th {\n",
       "        vertical-align: top;\n",
       "    }\n",
       "\n",
       "    .dataframe thead th {\n",
       "        text-align: right;\n",
       "    }\n",
       "</style>\n",
       "<table border=\"1\" class=\"dataframe\">\n",
       "  <thead>\n",
       "    <tr style=\"text-align: right;\">\n",
       "      <th></th>\n",
       "      <th>Medicine</th>\n",
       "      <th>Condition</th>\n",
       "      <th>Review</th>\n",
       "      <th>Rating</th>\n",
       "    </tr>\n",
       "  </thead>\n",
       "  <tbody>\n",
       "    <tr>\n",
       "      <th>0</th>\n",
       "      <td>Liraglutide</td>\n",
       "      <td>Obesity</td>\n",
       "      <td>\"I have been taking Saxenda since July 2016.  I had severe nausea for about a month once I got up to the 2.6 dosage.  It has since subsided and the only side effect I notice now is the dry mouth.  I make sure to drink  2.5 litres of water a day (about 10 glasses).  This helps with the weight loss as well as the constipation.  I have been reducing my dose to find a comfortable spot where I am still losing weight but don&amp;#039;t feel like I am over medicating.  For me, 1.8 is working very well.  I also feel wearing a Fitbit has really helped.  I can track my food, water, exercise and steps - it keeps me moving more.  When this started I could barely walk the length of myself without getting winded - I have lost 58 lbs so far.\"</td>\n",
       "      <td>High</td>\n",
       "    </tr>\n",
       "    <tr>\n",
       "      <th>1</th>\n",
       "      <td>Trazodone</td>\n",
       "      <td>Insomnia</td>\n",
       "      <td>\"I have insomnia, it&amp;#039;s horrible. My story begins with my PCP prescribing me Prozac to help with intestinal issues, because I was desperate I tried it, I was on it for 3 weeks. Stopped because of insomnia. Then I was prescribed Ativan, it out me out, but was very addicting. I had rebound insomnia. Then after about 14 days I hardly any sleep l tried the doctor one more time. I asked him about Trazadone. He told me that was a good medication for insomnia. He put me on 25 mgs, but stated I may have to figure out what dosage is best for me. I am currently taking 100 mgs, which is on the low range of what is prescribed, 400 mgs being at the high end for insomnia. I have the dry mouth and nasel congestion. I can live with that, I sleep now, yeah...\"</td>\n",
       "      <td>High</td>\n",
       "    </tr>\n",
       "    <tr>\n",
       "      <th>2</th>\n",
       "      <td>Contrave</td>\n",
       "      <td>Obesity</td>\n",
       "      <td>\"I am just finishing my second week taking Contrave and have lost 10 lbs. It has been an interesting experience because the drug is definitely not an appetite suppressant, yet it does help you control the urge to eat. I have had mild side effects - some stomach discomfort and slight headaches along with constipation, but it has all been easily manageable. If you are considering taking this medication please keep in mind that you still need to do the work by exercising and eating right, but the medication really does help. It has helped me get my motivation back to exercise, and it definitely helps with cravings to eat making it easy to just eat what I need to be healthy. Use the coupon they give you, it drops cost to $70\"</td>\n",
       "      <td>High</td>\n",
       "    </tr>\n",
       "    <tr>\n",
       "      <th>3</th>\n",
       "      <td>Dulaglutide</td>\n",
       "      <td>Diabetes, Type 2</td>\n",
       "      <td>\"Hey Guys,  It&amp;#039;s been 4 months since my last post as I wanted to give it a few months to see how this was going to work.  So, I have been on Trulicity for six months now with Metformin.  When I hit the five month period the diarrhea, gas, sulphur belching finally subsided.  I now longer have any of those side effects.  However, I still haven&amp;#039;t lost any weight at all, but I think that was because when I first started Trulicity I was taking it with Glimepiride and that one has a side effect of weight gain so I think the two meds were fighting each other lol.  I have been back on the Metformin with Trulicity for about a week now, so we will see what this does.  I was diagnosed as  stage 3 chronic kidney disease (CKD 3) so I am watching diet closely.\"</td>\n",
       "      <td>High</td>\n",
       "    </tr>\n",
       "    <tr>\n",
       "      <th>4</th>\n",
       "      <td>Bupropion</td>\n",
       "      <td>Smoking Cessation</td>\n",
       "      <td>\"Love this, no mouth sores, or ulcers like Wellbutrin gave me. I COMPLETELY QUIT SMOKING...this works.\"</td>\n",
       "      <td>High</td>\n",
       "    </tr>\n",
       "    <tr>\n",
       "      <th>...</th>\n",
       "      <td>...</td>\n",
       "      <td>...</td>\n",
       "      <td>...</td>\n",
       "      <td>...</td>\n",
       "    </tr>\n",
       "    <tr>\n",
       "      <th>23300</th>\n",
       "      <td>Phentermine</td>\n",
       "      <td>Weight Loss</td>\n",
       "      <td>\"Started Adipex 2 weeks ago. Lost 20 lbs so far! I even skip the pill 1 to 2 times a week. The energy loss is aweful those days though.\"</td>\n",
       "      <td>High</td>\n",
       "    </tr>\n",
       "    <tr>\n",
       "      <th>23301</th>\n",
       "      <td>Zolpidem</td>\n",
       "      <td>Insomnia</td>\n",
       "      <td>\"Zolpidem does work fast. However, I have a right arm that goes to sleep on me easily. So if I take zolpidem, I make sure that I fall asleep in a position that will not cut the circulation in my arm.\"</td>\n",
       "      <td>Low</td>\n",
       "    </tr>\n",
       "    <tr>\n",
       "      <th>23302</th>\n",
       "      <td>Zolpidem</td>\n",
       "      <td>Insomnia</td>\n",
       "      <td>\"I started taking this medication 10 years ago. My doctor told me it was non-narcotic and non-habit forming.  Up to that time I had never had any addictions to drugs or alcohol, but unfortunately I am dependent on this drug for sleep.  It does however work very well with few side effects and I wake up feeling refreshed.  \"</td>\n",
       "      <td>High</td>\n",
       "    </tr>\n",
       "    <tr>\n",
       "      <th>23303</th>\n",
       "      <td>Invokana</td>\n",
       "      <td>Diabetes, Type 2</td>\n",
       "      <td>\"I just got diagnosed with type 2. My doctor prescribed Invokana and metformin from the beginning. My sugars went down to normal by the second week. I  am losing so much weight. No side effects yet. Miracle medicine for me\"</td>\n",
       "      <td>High</td>\n",
       "    </tr>\n",
       "    <tr>\n",
       "      <th>23304</th>\n",
       "      <td>Campral</td>\n",
       "      <td>Alcohol Dependence</td>\n",
       "      <td>\"I wrote my first report in Mid-October of 2014.  I have not had any alcohol at all since that post, have reduced my dosage to 1 pill first thing in the morning.  I am a very social person, and entertained a great deal.  I was very very worried that I would relapse if faced with the availability of alcohol.  I have sailed through all my seasonal parties, early spring get togethers and weekly &amp;quot;wings and beer&amp;quot; with friends with not one slip.  My husband and daughter are huge supporters.  As I write this, I have various wines and liquors in my cabinet - serve to guests - and have no interest at all in consuming booze in any form.  Again, I state that Campral saved my life.\"</td>\n",
       "      <td>High</td>\n",
       "    </tr>\n",
       "  </tbody>\n",
       "</table>\n",
       "<p>23305 rows × 4 columns</p>\n",
       "</div>"
      ],
      "text/plain": [
       "          Medicine           Condition  \\\n",
       "0      Liraglutide             Obesity   \n",
       "1        Trazodone            Insomnia   \n",
       "2         Contrave             Obesity   \n",
       "3      Dulaglutide    Diabetes, Type 2   \n",
       "4        Bupropion   Smoking Cessation   \n",
       "...            ...                 ...   \n",
       "23300  Phentermine         Weight Loss   \n",
       "23301     Zolpidem            Insomnia   \n",
       "23302     Zolpidem            Insomnia   \n",
       "23303     Invokana    Diabetes, Type 2   \n",
       "23304      Campral  Alcohol Dependence   \n",
       "\n",
       "                                                                                                                                                                                                                                                                                                                                                                                                                                                                                                                                                                                                                                                                                                                                                                                                Review  \\\n",
       "0                                        \"I have been taking Saxenda since July 2016.  I had severe nausea for about a month once I got up to the 2.6 dosage.  It has since subsided and the only side effect I notice now is the dry mouth.  I make sure to drink  2.5 litres of water a day (about 10 glasses).  This helps with the weight loss as well as the constipation.  I have been reducing my dose to find a comfortable spot where I am still losing weight but don&#039;t feel like I am over medicating.  For me, 1.8 is working very well.  I also feel wearing a Fitbit has really helped.  I can track my food, water, exercise and steps - it keeps me moving more.  When this started I could barely walk the length of myself without getting winded - I have lost 58 lbs so far.\"   \n",
       "1                \"I have insomnia, it&#039;s horrible. My story begins with my PCP prescribing me Prozac to help with intestinal issues, because I was desperate I tried it, I was on it for 3 weeks. Stopped because of insomnia. Then I was prescribed Ativan, it out me out, but was very addicting. I had rebound insomnia. Then after about 14 days I hardly any sleep l tried the doctor one more time. I asked him about Trazadone. He told me that was a good medication for insomnia. He put me on 25 mgs, but stated I may have to figure out what dosage is best for me. I am currently taking 100 mgs, which is on the low range of what is prescribed, 400 mgs being at the high end for insomnia. I have the dry mouth and nasel congestion. I can live with that, I sleep now, yeah...\"   \n",
       "2                                          \"I am just finishing my second week taking Contrave and have lost 10 lbs. It has been an interesting experience because the drug is definitely not an appetite suppressant, yet it does help you control the urge to eat. I have had mild side effects - some stomach discomfort and slight headaches along with constipation, but it has all been easily manageable. If you are considering taking this medication please keep in mind that you still need to do the work by exercising and eating right, but the medication really does help. It has helped me get my motivation back to exercise, and it definitely helps with cravings to eat making it easy to just eat what I need to be healthy. Use the coupon they give you, it drops cost to $70\"   \n",
       "3      \"Hey Guys,  It&#039;s been 4 months since my last post as I wanted to give it a few months to see how this was going to work.  So, I have been on Trulicity for six months now with Metformin.  When I hit the five month period the diarrhea, gas, sulphur belching finally subsided.  I now longer have any of those side effects.  However, I still haven&#039;t lost any weight at all, but I think that was because when I first started Trulicity I was taking it with Glimepiride and that one has a side effect of weight gain so I think the two meds were fighting each other lol.  I have been back on the Metformin with Trulicity for about a week now, so we will see what this does.  I was diagnosed as  stage 3 chronic kidney disease (CKD 3) so I am watching diet closely.\"   \n",
       "4                                                                                                                                                                                                                                                                                                                                                                                                                                                                                                                                                                                                                                                                                              \"Love this, no mouth sores, or ulcers like Wellbutrin gave me. I COMPLETELY QUIT SMOKING...this works.\"   \n",
       "...                                                                                                                                                                                                                                                                                                                                                                                                                                                                                                                                                                                                                                                                                                                                                                                                ...   \n",
       "23300                                                                                                                                                                                                                                                                                                                                                                                                                                                                                                                                                                                                                                                         \"Started Adipex 2 weeks ago. Lost 20 lbs so far! I even skip the pill 1 to 2 times a week. The energy loss is aweful those days though.\"   \n",
       "23301                                                                                                                                                                                                                                                                                                                                                                                                                                                                                                                                                                                         \"Zolpidem does work fast. However, I have a right arm that goes to sleep on me easily. So if I take zolpidem, I make sure that I fall asleep in a position that will not cut the circulation in my arm.\"   \n",
       "23302                                                                                                                                                                                                                                                                                                                                                                                                                                                             \"I started taking this medication 10 years ago. My doctor told me it was non-narcotic and non-habit forming.  Up to that time I had never had any addictions to drugs or alcohol, but unfortunately I am dependent on this drug for sleep.  It does however work very well with few side effects and I wake up feeling refreshed.  \"   \n",
       "23303                                                                                                                                                                                                                                                                                                                                                                                                                                                                                                                                                                  \"I just got diagnosed with type 2. My doctor prescribed Invokana and metformin from the beginning. My sugars went down to normal by the second week. I  am losing so much weight. No side effects yet. Miracle medicine for me\"   \n",
       "23304                                                                                \"I wrote my first report in Mid-October of 2014.  I have not had any alcohol at all since that post, have reduced my dosage to 1 pill first thing in the morning.  I am a very social person, and entertained a great deal.  I was very very worried that I would relapse if faced with the availability of alcohol.  I have sailed through all my seasonal parties, early spring get togethers and weekly &quot;wings and beer&quot; with friends with not one slip.  My husband and daughter are huge supporters.  As I write this, I have various wines and liquors in my cabinet - serve to guests - and have no interest at all in consuming booze in any form.  Again, I state that Campral saved my life.\"   \n",
       "\n",
       "      Rating  \n",
       "0       High  \n",
       "1       High  \n",
       "2       High  \n",
       "3       High  \n",
       "4       High  \n",
       "...      ...  \n",
       "23300   High  \n",
       "23301    Low  \n",
       "23302   High  \n",
       "23303   High  \n",
       "23304   High  \n",
       "\n",
       "[23305 rows x 4 columns]"
      ]
     },
     "execution_count": 3,
     "metadata": {},
     "output_type": "execute_result"
    }
   ],
   "source": [
    "df"
   ]
  },
  {
   "cell_type": "code",
   "execution_count": 4,
   "id": "ed56d342-a57a-4402-a386-878b6473d032",
   "metadata": {},
   "outputs": [
    {
     "name": "stdout",
     "output_type": "stream",
     "text": [
      "<class 'pandas.core.frame.DataFrame'>\n",
      "RangeIndex: 23305 entries, 0 to 23304\n",
      "Columns: 579 entries, Review to Condition_Weight Loss\n",
      "dtypes: int64(1), object(1), uint8(577)\n",
      "memory usage: 13.2+ MB\n",
      "None\n"
     ]
    }
   ],
   "source": [
    "# Converting structured categorical features to numerical features\n",
    "df['Rating'] = df['Rating'].map({'High':1, 'Low':0})\n",
    "\n",
    "categorical_features = ['Medicine', 'Condition']\n",
    "df = pd.get_dummies(df, columns = categorical_features)\n",
    "print(df.info())"
   ]
  },
  {
   "cell_type": "code",
   "execution_count": 5,
   "id": "d58c4be2-6da9-48a4-bc9b-cbd7647e3fa5",
   "metadata": {},
   "outputs": [],
   "source": [
    "# Converting unstructured 'Review' column to a TF-IDF matrix\n",
    "def cleaner(review): # Cleaning reviews\n",
    "    soup = BeautifulSoup(review, 'lxml') # removing HTML entities such as ‘&amp’,’&quot’,'&gt'; lxml is the html parser and shoulp be installed using 'pip install lxml'\n",
    "    souped = soup.get_text()\n",
    "    re1 = re.sub(r\"(@|http://|https://|www|\\\\x)\\S*\", \" \", souped) # substituting @mentions, urls, etc with whitespace\n",
    "    re2 = re.sub(\"[^A-Za-z]+\",\" \", re1) # substituting any non-alphabetic character that repeats one or more times with whitespace\n",
    "\n",
    "    \"\"\"\n",
    "    For more info on regular expressions visit -\n",
    "    https://docs.python.org/3/howto/regex.html\n",
    "    \"\"\"\n",
    "\n",
    "    tokens = nltk.word_tokenize(re2)\n",
    "    lower_case = [t.lower() for t in tokens]\n",
    "\n",
    "    stop_words = set(stopwords.words('english'))\n",
    "    filtered_result = list(filter(lambda l: l not in stop_words, lower_case))\n",
    "\n",
    "    wordnet_lemmatizer = WordNetLemmatizer()\n",
    "    lemmas = [wordnet_lemmatizer.lemmatize(t) for t in filtered_result]\n",
    "    return lemmas\n"
   ]
  },
  {
   "cell_type": "code",
   "execution_count": 6,
   "id": "06893082-4388-4187-9216-09c1262b32db",
   "metadata": {},
   "outputs": [
    {
     "name": "stdout",
     "output_type": "stream",
     "text": [
      "Printing top 5 rows of dataframe showing original and cleaned reviews....\n",
      "                                                                                                                                                                                                                                                                                                                                                                                                                                                                                                                                                                                                                                                                                                                                                                                            Review  \\\n",
      "0                                    \"I have been taking Saxenda since July 2016.  I had severe nausea for about a month once I got up to the 2.6 dosage.  It has since subsided and the only side effect I notice now is the dry mouth.  I make sure to drink  2.5 litres of water a day (about 10 glasses).  This helps with the weight loss as well as the constipation.  I have been reducing my dose to find a comfortable spot where I am still losing weight but don&#039;t feel like I am over medicating.  For me, 1.8 is working very well.  I also feel wearing a Fitbit has really helped.  I can track my food, water, exercise and steps - it keeps me moving more.  When this started I could barely walk the length of myself without getting winded - I have lost 58 lbs so far.\"   \n",
      "1            \"I have insomnia, it&#039;s horrible. My story begins with my PCP prescribing me Prozac to help with intestinal issues, because I was desperate I tried it, I was on it for 3 weeks. Stopped because of insomnia. Then I was prescribed Ativan, it out me out, but was very addicting. I had rebound insomnia. Then after about 14 days I hardly any sleep l tried the doctor one more time. I asked him about Trazadone. He told me that was a good medication for insomnia. He put me on 25 mgs, but stated I may have to figure out what dosage is best for me. I am currently taking 100 mgs, which is on the low range of what is prescribed, 400 mgs being at the high end for insomnia. I have the dry mouth and nasel congestion. I can live with that, I sleep now, yeah...\"   \n",
      "2                                      \"I am just finishing my second week taking Contrave and have lost 10 lbs. It has been an interesting experience because the drug is definitely not an appetite suppressant, yet it does help you control the urge to eat. I have had mild side effects - some stomach discomfort and slight headaches along with constipation, but it has all been easily manageable. If you are considering taking this medication please keep in mind that you still need to do the work by exercising and eating right, but the medication really does help. It has helped me get my motivation back to exercise, and it definitely helps with cravings to eat making it easy to just eat what I need to be healthy. Use the coupon they give you, it drops cost to $70\"   \n",
      "3  \"Hey Guys,  It&#039;s been 4 months since my last post as I wanted to give it a few months to see how this was going to work.  So, I have been on Trulicity for six months now with Metformin.  When I hit the five month period the diarrhea, gas, sulphur belching finally subsided.  I now longer have any of those side effects.  However, I still haven&#039;t lost any weight at all, but I think that was because when I first started Trulicity I was taking it with Glimepiride and that one has a side effect of weight gain so I think the two meds were fighting each other lol.  I have been back on the Metformin with Trulicity for about a week now, so we will see what this does.  I was diagnosed as  stage 3 chronic kidney disease (CKD 3) so I am watching diet closely.\"   \n",
      "4                                                                                                                                                                                                                                                                                                                                                                                                                                                                                                                                                                                                                                                                                          \"Love this, no mouth sores, or ulcers like Wellbutrin gave me. I COMPLETELY QUIT SMOKING...this works.\"   \n",
      "\n",
      "                                                                                                                                                                                                                                                                                                                                                                                                                                                                                                                      cleaned_review  \n",
      "0                                    [taking, saxenda, since, july, severe, nausea, month, got, dosage, since, subsided, side, effect, notice, dry, mouth, make, sure, drink, litre, water, day, glass, help, weight, loss, well, constipation, reducing, dose, find, comfortable, spot, still, losing, weight, feel, like, medicating, working, well, also, feel, wearing, fitbit, really, helped, track, food, water, exercise, step, keep, moving, started, could, barely, walk, length, without, getting, winded, lost, lb, far]  \n",
      "1                                                                      [insomnia, horrible, story, begin, pcp, prescribing, prozac, help, intestinal, issue, desperate, tried, week, stopped, insomnia, prescribed, ativan, addicting, rebound, insomnia, day, hardly, sleep, l, tried, doctor, one, time, asked, trazadone, told, good, medication, insomnia, put, mg, stated, may, figure, dosage, best, currently, taking, mg, low, range, prescribed, mg, high, end, insomnia, dry, mouth, nasel, congestion, live, sleep, yeah]  \n",
      "2  [finishing, second, week, taking, contrave, lost, lb, interesting, experience, drug, definitely, appetite, suppressant, yet, help, control, urge, eat, mild, side, effect, stomach, discomfort, slight, headache, along, constipation, easily, manageable, considering, taking, medication, please, keep, mind, still, need, work, exercising, eating, right, medication, really, help, helped, get, motivation, back, exercise, definitely, help, craving, eat, making, easy, eat, need, healthy, use, coupon, give, drop, cost]  \n",
      "3                                          [hey, guy, month, since, last, post, wanted, give, month, see, going, work, trulicity, six, month, metformin, hit, five, month, period, diarrhea, gas, sulphur, belching, finally, subsided, longer, side, effect, however, still, lost, weight, think, first, started, trulicity, taking, glimepiride, one, side, effect, weight, gain, think, two, med, fighting, lol, back, metformin, trulicity, week, see, diagnosed, stage, chronic, kidney, disease, ckd, watching, diet, closely]  \n",
      "4                                                                                                                                                                                                                                                                                                                                                                                                                                                [love, mouth, sore, ulcer, like, wellbutrin, gave, completely, quit, smoking, work]  \n"
     ]
    }
   ],
   "source": [
    "df['cleaned_review'] = df.Review.apply(cleaner)\n",
    "df = df[df['cleaned_review'].map(len) > 0] # removing rows with cleaned reviews of length 0\n",
    "print(\"Printing top 5 rows of dataframe showing original and cleaned reviews....\")\n",
    "print(df[['Review','cleaned_review']].head())\n",
    "\n",
    "df.to_csv('cleaned_Med_data.csv', index=False) # Saving cleaned reviews to csv (to inspect how well the reviews have been cleaned!)"
   ]
  },
  {
   "cell_type": "code",
   "execution_count": 7,
   "id": "1189e4f6-8185-48cf-a938-7a63a386cc50",
   "metadata": {},
   "outputs": [],
   "source": [
    "df['cleaned_review'] = [\" \".join(row) for row in df['cleaned_review'].values] # joining tokens to create strings. TfidfVectorizer does not accept tokens as input\n",
    "data = df['cleaned_review']\n",
    "Y = df['Rating'] # target column\n",
    "tfidf = TfidfVectorizer(min_df=.00086, ngram_range=(1,3)) # min_df=.00086 means that each ngram (unigram, bigram, & trigram) must be present in at least 20 documents for it to be considered as a token (23305*.00086=20). This is a clever way of feature engineering\n",
    "tfidf.fit(data) # learn vocabulary of entire data\n",
    "data_tfidf = tfidf.transform(data) # creating tfidf values"
   ]
  },
  {
   "cell_type": "code",
   "execution_count": 10,
   "id": "8d1ca08b-9739-4e96-9854-3b3a043ac64b",
   "metadata": {},
   "outputs": [
    {
     "name": "stdout",
     "output_type": "stream",
     "text": [
      "Shape of tfidf matrix:  (23305, 8103)\n",
      "<class 'scipy.sparse.csr.csr_matrix'>\n"
     ]
    }
   ],
   "source": [
    "pd.DataFrame.from_dict(data=dict([word, i] for i, word in enumerate(tfidf.get_feature_names())), orient='index').to_csv('vocabulary.csv', header=False) # Saving vocabulary to csv\n",
    "print(\"Shape of tfidf matrix: \", data_tfidf.shape)\n",
    "print(type(data_tfidf))"
   ]
  },
  {
   "cell_type": "code",
   "execution_count": 15,
   "id": "444d49ec-3f9f-4687-bf72-934bb4c4296e",
   "metadata": {},
   "outputs": [
    {
     "name": "stdout",
     "output_type": "stream",
     "text": [
      "(23305, 577)\n",
      "(23305, 8103)\n",
      "(23305, 8680)\n",
      "<class 'pandas.core.frame.DataFrame'>\n",
      "Int64Index: 23305 entries, 0 to 23304\n",
      "Columns: 8680 entries, Medicine_Absorica to zyrtec\n",
      "dtypes: float64(8103), uint8(577)\n",
      "memory usage: 1.4 GB\n",
      "None\n"
     ]
    }
   ],
   "source": [
    "# Concatenating TF-IDF matrix with the rest of the independent variables to create a final feature set\n",
    "df1 = df.drop(['Review', 'cleaned_review', 'Rating'], axis=1)\n",
    "df2 = pd.DataFrame(data_tfidf.toarray(), columns = tfidf.get_feature_names()) # Converting tfidf matrix into a dataframe\n",
    "X = pd.concat([df1, df2], axis = 1)\n",
    "\n",
    "print(df1.shape)\n",
    "print(df2.shape)\n",
    "print(X.shape)\n",
    "print(X.info())\n"
   ]
  },
  {
   "cell_type": "code",
   "execution_count": 19,
   "id": "f222861c-6158-4c2c-ae13-c53b38246132",
   "metadata": {},
   "outputs": [
    {
     "name": "stdout",
     "output_type": "stream",
     "text": [
      "Iteration  1\n",
      "Cross-validation precision:  0.9057815845824411\n",
      "Iteration  2\n",
      "Cross-validation precision:  0.9230769230769231\n",
      "Iteration  3\n",
      "Cross-validation precision:  0.9191096634093376\n",
      "Iteration  4\n",
      "Cross-validation precision:  0.9269085002707093\n",
      "Iteration  5\n",
      "Cross-validation precision:  0.9129032258064517\n",
      "Iteration  6\n",
      "Cross-validation precision:  0.9114806866952789\n",
      "Iteration  7\n",
      "Cross-validation precision:  0.9197002141327623\n",
      "Iteration  8\n",
      "Cross-validation precision:  0.9172043010752688\n",
      "Iteration  9\n",
      "Cross-validation precision:  0.9269085002707093\n",
      "Iteration  10\n",
      "Cross-validation precision:  0.9174361759913091\n",
      "Mean cross-validation precision:  0.918050977531119\n"
     ]
    },
    {
     "data": {
      "text/plain": [
       "['svc.sav']"
      ]
     },
     "execution_count": 19,
     "metadata": {},
     "output_type": "execute_result"
    }
   ],
   "source": [
    "# Implementing Support Vector Classifier\n",
    "model = LinearSVC() # kernel = 'linear' and C = 1\n",
    "\n",
    "# Running cross-validation\n",
    "kf = StratifiedKFold(n_splits=10, shuffle=True, random_state=1) # 10-fold cross-validation\n",
    "scores=[]\n",
    "iteration = 0\n",
    "for train_index, test_index in kf.split(X, Y):\n",
    "    iteration += 1\n",
    "    print(\"Iteration \", iteration)\n",
    "    X_train, Y_train = X.iloc[train_index], Y[train_index]\n",
    "    X_test, Y_test = X.iloc[test_index], Y[test_index]\n",
    "    model.fit(X_train, Y_train) # Fitting SVC\n",
    "    Y_pred = model.predict(X_test)\n",
    "    score = metrics.precision_score(Y_test, Y_pred) # Calculating accuracy\n",
    "    print(\"Cross-validation precision: \", score)\n",
    "    scores.append(score) # appending cross-validation precision for each iteration\n",
    "mean_precision = np.mean(scores)\n",
    "print(\"Mean cross-validation precision: \", mean_precision)\n",
    "\n",
    "# Creating SVC on entire data and saving it\n",
    "clf = LinearSVC().fit(X, Y)\n",
    "joblib.dump(clf, 'svc.sav')\n"
   ]
  },
  {
   "cell_type": "code",
   "execution_count": null,
   "id": "8834f44f-1f89-4e86-94b2-f871993c2a6c",
   "metadata": {},
   "outputs": [],
   "source": []
  },
  {
   "cell_type": "code",
   "execution_count": null,
   "id": "9b572c4f-9d38-4695-9d52-d01bf4ee3bd7",
   "metadata": {},
   "outputs": [],
   "source": []
  },
  {
   "cell_type": "code",
   "execution_count": null,
   "id": "a19cb7f1-808a-4bc4-ba1e-c6e7c31eab83",
   "metadata": {},
   "outputs": [],
   "source": []
  }
 ],
 "metadata": {
  "kernelspec": {
   "display_name": "Python 3",
   "language": "python",
   "name": "python3"
  },
  "language_info": {
   "codemirror_mode": {
    "name": "ipython",
    "version": 3
   },
   "file_extension": ".py",
   "mimetype": "text/x-python",
   "name": "python",
   "nbconvert_exporter": "python",
   "pygments_lexer": "ipython3",
   "version": "3.8.8"
  }
 },
 "nbformat": 4,
 "nbformat_minor": 5
}
